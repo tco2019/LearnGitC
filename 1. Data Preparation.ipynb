{
 "cells": [
  {
   "cell_type": "markdown",
   "metadata": {},
   "source": [
    "## Introduction to the COVID-19 Open Research Dataset\n",
    "\n",
    "The COVID-19 Open Research Dataset (CORD-19) is a collection of over 50,000 scholarly articles - including over 40,000 with full text - about COVID-19, SARS-CoV-2, and related coronaviruses. This dataset has been made freely available with the goal to aid research communities combat the COVID-19 pandemic. It has been made available by the Allen Institute for AI in partnership with leading research groups to prepare and distribute the COVID-19 Open Research Dataset (CORD-19), in response to the COVID-19 pandemic.\n",
    "\n",
    "During this lab you will learn how to process and analyze a subset of the articles present in the dataset, group them together into a series of clusters, and use Automated ML to train a machine learning model capable of classifying new articles as they are published."
   ]
  },
  {
   "cell_type": "markdown",
   "metadata": {},
   "source": [
    "### Setup\n",
    "\n",
    "We will start off by installing a few packages, such as `nltk` for text processing and `wordcloud`, `seaborn`, and `yellowbrick` for various visualizations."
   ]
  },
  {
   "cell_type": "code",
   "execution_count": 1,
   "metadata": {},
   "outputs": [
    {
     "name": "stdout",
     "output_type": "stream",
     "text": [
      "Requirement already satisfied: nltk in /anaconda/envs/aiw-ai-kernel/lib/python3.8/site-packages (3.7)\n",
      "Requirement already satisfied: click in /anaconda/envs/aiw-ai-kernel/lib/python3.8/site-packages (from nltk) (8.1.2)\n",
      "Requirement already satisfied: joblib in /anaconda/envs/aiw-ai-kernel/lib/python3.8/site-packages (from nltk) (1.1.0)\n",
      "Requirement already satisfied: tqdm in /anaconda/envs/aiw-ai-kernel/lib/python3.8/site-packages (from nltk) (4.64.0)\n",
      "Requirement already satisfied: regex>=2021.8.3 in /anaconda/envs/aiw-ai-kernel/lib/python3.8/site-packages (from nltk) (2022.3.15)\n",
      "Note: you may need to restart the kernel to use updated packages.\n",
      "Requirement already satisfied: wordcloud in /anaconda/envs/aiw-ai-kernel/lib/python3.8/site-packages (1.8.1)\n",
      "Requirement already satisfied: matplotlib in /anaconda/envs/aiw-ai-kernel/lib/python3.8/site-packages (from wordcloud) (3.5.1)\n",
      "Requirement already satisfied: pillow in /anaconda/envs/aiw-ai-kernel/lib/python3.8/site-packages (from wordcloud) (9.1.0)\n",
      "Requirement already satisfied: numpy>=1.6.1 in /anaconda/envs/aiw-ai-kernel/lib/python3.8/site-packages (from wordcloud) (1.22.3)\n",
      "Requirement already satisfied: kiwisolver>=1.0.1 in /anaconda/envs/aiw-ai-kernel/lib/python3.8/site-packages (from matplotlib->wordcloud) (1.4.2)\n",
      "Requirement already satisfied: cycler>=0.10 in /anaconda/envs/aiw-ai-kernel/lib/python3.8/site-packages (from matplotlib->wordcloud) (0.11.0)\n",
      "Requirement already satisfied: packaging>=20.0 in /anaconda/envs/aiw-ai-kernel/lib/python3.8/site-packages (from matplotlib->wordcloud) (21.3)\n",
      "Requirement already satisfied: python-dateutil>=2.7 in /anaconda/envs/aiw-ai-kernel/lib/python3.8/site-packages (from matplotlib->wordcloud) (2.8.2)\n",
      "Requirement already satisfied: pyparsing>=2.2.1 in /anaconda/envs/aiw-ai-kernel/lib/python3.8/site-packages (from matplotlib->wordcloud) (3.0.8)\n",
      "Requirement already satisfied: fonttools>=4.22.0 in /anaconda/envs/aiw-ai-kernel/lib/python3.8/site-packages (from matplotlib->wordcloud) (4.32.0)\n",
      "Requirement already satisfied: six>=1.5 in /anaconda/envs/aiw-ai-kernel/lib/python3.8/site-packages (from python-dateutil>=2.7->matplotlib->wordcloud) (1.16.0)\n",
      "Note: you may need to restart the kernel to use updated packages.\n",
      "Requirement already satisfied: seaborn in /anaconda/envs/aiw-ai-kernel/lib/python3.8/site-packages (0.11.2)\n",
      "Requirement already satisfied: numpy>=1.15 in /anaconda/envs/aiw-ai-kernel/lib/python3.8/site-packages (from seaborn) (1.22.3)\n",
      "Requirement already satisfied: scipy>=1.0 in /anaconda/envs/aiw-ai-kernel/lib/python3.8/site-packages (from seaborn) (1.8.0)\n",
      "Requirement already satisfied: pandas>=0.23 in /anaconda/envs/aiw-ai-kernel/lib/python3.8/site-packages (from seaborn) (1.4.2)\n",
      "Requirement already satisfied: matplotlib>=2.2 in /anaconda/envs/aiw-ai-kernel/lib/python3.8/site-packages (from seaborn) (3.5.1)\n",
      "Requirement already satisfied: kiwisolver>=1.0.1 in /anaconda/envs/aiw-ai-kernel/lib/python3.8/site-packages (from matplotlib>=2.2->seaborn) (1.4.2)\n",
      "Requirement already satisfied: packaging>=20.0 in /anaconda/envs/aiw-ai-kernel/lib/python3.8/site-packages (from matplotlib>=2.2->seaborn) (21.3)\n",
      "Requirement already satisfied: python-dateutil>=2.7 in /anaconda/envs/aiw-ai-kernel/lib/python3.8/site-packages (from matplotlib>=2.2->seaborn) (2.8.2)\n",
      "Requirement already satisfied: cycler>=0.10 in /anaconda/envs/aiw-ai-kernel/lib/python3.8/site-packages (from matplotlib>=2.2->seaborn) (0.11.0)\n",
      "Requirement already satisfied: fonttools>=4.22.0 in /anaconda/envs/aiw-ai-kernel/lib/python3.8/site-packages (from matplotlib>=2.2->seaborn) (4.32.0)\n",
      "Requirement already satisfied: pillow>=6.2.0 in /anaconda/envs/aiw-ai-kernel/lib/python3.8/site-packages (from matplotlib>=2.2->seaborn) (9.1.0)\n",
      "Requirement already satisfied: pyparsing>=2.2.1 in /anaconda/envs/aiw-ai-kernel/lib/python3.8/site-packages (from matplotlib>=2.2->seaborn) (3.0.8)\n",
      "Requirement already satisfied: pytz>=2020.1 in /anaconda/envs/aiw-ai-kernel/lib/python3.8/site-packages (from pandas>=0.23->seaborn) (2022.1)\n",
      "Requirement already satisfied: six>=1.5 in /anaconda/envs/aiw-ai-kernel/lib/python3.8/site-packages (from python-dateutil>=2.7->matplotlib>=2.2->seaborn) (1.16.0)\n",
      "Note: you may need to restart the kernel to use updated packages.\n",
      "Requirement already satisfied: yellowbrick in /anaconda/envs/aiw-ai-kernel/lib/python3.8/site-packages (1.4)\n",
      "Requirement already satisfied: numpy>=1.16.0 in /anaconda/envs/aiw-ai-kernel/lib/python3.8/site-packages (from yellowbrick) (1.22.3)\n",
      "Requirement already satisfied: scikit-learn>=1.0.0 in /anaconda/envs/aiw-ai-kernel/lib/python3.8/site-packages (from yellowbrick) (1.0.2)\n",
      "Requirement already satisfied: cycler>=0.10.0 in /anaconda/envs/aiw-ai-kernel/lib/python3.8/site-packages (from yellowbrick) (0.11.0)\n",
      "Requirement already satisfied: scipy>=1.0.0 in /anaconda/envs/aiw-ai-kernel/lib/python3.8/site-packages (from yellowbrick) (1.8.0)\n",
      "Requirement already satisfied: matplotlib!=3.0.0,>=2.0.2 in /anaconda/envs/aiw-ai-kernel/lib/python3.8/site-packages (from yellowbrick) (3.5.1)\n",
      "Requirement already satisfied: kiwisolver>=1.0.1 in /anaconda/envs/aiw-ai-kernel/lib/python3.8/site-packages (from matplotlib!=3.0.0,>=2.0.2->yellowbrick) (1.4.2)\n",
      "Requirement already satisfied: fonttools>=4.22.0 in /anaconda/envs/aiw-ai-kernel/lib/python3.8/site-packages (from matplotlib!=3.0.0,>=2.0.2->yellowbrick) (4.32.0)\n",
      "Requirement already satisfied: python-dateutil>=2.7 in /anaconda/envs/aiw-ai-kernel/lib/python3.8/site-packages (from matplotlib!=3.0.0,>=2.0.2->yellowbrick) (2.8.2)\n",
      "Requirement already satisfied: packaging>=20.0 in /anaconda/envs/aiw-ai-kernel/lib/python3.8/site-packages (from matplotlib!=3.0.0,>=2.0.2->yellowbrick) (21.3)\n",
      "Requirement already satisfied: pyparsing>=2.2.1 in /anaconda/envs/aiw-ai-kernel/lib/python3.8/site-packages (from matplotlib!=3.0.0,>=2.0.2->yellowbrick) (3.0.8)\n",
      "Requirement already satisfied: pillow>=6.2.0 in /anaconda/envs/aiw-ai-kernel/lib/python3.8/site-packages (from matplotlib!=3.0.0,>=2.0.2->yellowbrick) (9.1.0)\n",
      "Requirement already satisfied: six>=1.5 in /anaconda/envs/aiw-ai-kernel/lib/python3.8/site-packages (from python-dateutil>=2.7->matplotlib!=3.0.0,>=2.0.2->yellowbrick) (1.16.0)\n",
      "Requirement already satisfied: threadpoolctl>=2.0.0 in /anaconda/envs/aiw-ai-kernel/lib/python3.8/site-packages (from scikit-learn>=1.0.0->yellowbrick) (3.1.0)\n",
      "Requirement already satisfied: joblib>=0.11 in /anaconda/envs/aiw-ai-kernel/lib/python3.8/site-packages (from scikit-learn>=1.0.0->yellowbrick) (1.1.0)\n",
      "Note: you may need to restart the kernel to use updated packages.\n"
     ]
    }
   ],
   "source": [
    "%pip install nltk\n",
    "%pip install wordcloud\n",
    "%pip install seaborn\n",
    "%pip install yellowbrick\n"
   ]
  },
  {
   "cell_type": "markdown",
   "metadata": {},
   "source": [
    "We'll first download stopwords and the Punkt tokenizer models present in the `nltk` package, in order to be able to process the articles"
   ]
  },
  {
   "cell_type": "code",
   "execution_count": 2,
   "metadata": {},
   "outputs": [
    {
     "name": "stderr",
     "output_type": "stream",
     "text": [
      "[nltk_data] Downloading package punkt to /home/azureuser/nltk_data...\n",
      "[nltk_data]   Unzipping tokenizers/punkt.zip.\n",
      "[nltk_data] Downloading package stopwords to\n",
      "[nltk_data]     /home/azureuser/nltk_data...\n",
      "[nltk_data]   Unzipping corpora/stopwords.zip.\n"
     ]
    },
    {
     "data": {
      "text/plain": [
       "True"
      ]
     },
     "execution_count": 2,
     "metadata": {},
     "output_type": "execute_result"
    }
   ],
   "source": [
    "import nltk\n",
    "\n",
    "nltk.download('punkt')\n",
    "nltk.download('stopwords')"
   ]
  },
  {
   "cell_type": "markdown",
   "metadata": {},
   "source": [
    "We'll also import the rest of the modules needed in this notebook, and do a quick sanity-check on the Azure ML SDK version"
   ]
  },
  {
   "cell_type": "code",
   "execution_count": 3,
   "metadata": {
    "gather": {
     "logged": 1610442370993
    },
    "nteract": {
     "transient": {
      "deleting": false
     }
    }
   },
   "outputs": [
    {
     "name": "stdout",
     "output_type": "stream",
     "text": [
      "Azure ML SDK Version:  1.39.0\n"
     ]
    }
   ],
   "source": [
    "import os\n",
    "import json\n",
    "from string import punctuation\n",
    "\n",
    "import pandas as pd\n",
    "import seaborn as sns\n",
    "sns.set_palette('Set2')\n",
    "from wordcloud import WordCloud\n",
    "import matplotlib.pyplot as plt\n",
    "from yellowbrick.cluster import KElbowVisualizer\n",
    "from gensim.models.doc2vec import Doc2Vec, TaggedDocument\n",
    "from sklearn.manifold import TSNE\n",
    "from sklearn.decomposition import PCA\n",
    "from sklearn.model_selection import train_test_split\n",
    "from sklearn.cluster import KMeans, SpectralClustering, DBSCAN, Birch, AgglomerativeClustering\n",
    "from sklearn.metrics import roc_auc_score\n",
    "from nltk import word_tokenize, sent_tokenize\n",
    "from nltk.stem import SnowballStemmer, PorterStemmer\n",
    "\n",
    "from azureml.core import Workspace, Datastore, Dataset, VERSION\n",
    "\n",
    "print(\"Azure ML SDK Version: \", VERSION)"
   ]
  },
  {
   "cell_type": "markdown",
   "metadata": {},
   "source": [
    "## Load the Covid-19 data\n",
    "\n",
    "CORD-19 has been uploaded to an Azure Storage Account, we will connect to it and use it's API to download the dataset locally. Also please make sure to update the storage account name from the labguide in the below cell. "
   ]
  },
  {
   "cell_type": "code",
   "execution_count": 4,
   "metadata": {
    "gather": {
     "logged": 1610442384900
    }
   },
   "outputs": [],
   "source": [
    "covid_dirname = 'covid19temp'\n",
    "\n",
    "cord19_dataset = Dataset.File.from_files('https://aiinadaystorage800633.blob.core.windows.net/' + covid_dirname )\n",
    "mount = cord19_dataset.mount()\n",
    "\n",
    "covid_dirpath = os.path.join(mount.mount_point, covid_dirname)"
   ]
  },
  {
   "cell_type": "markdown",
   "metadata": {},
   "source": [
    "Display a sample of the dataset (top 5 rows)."
   ]
  },
  {
   "cell_type": "code",
   "execution_count": 5,
   "metadata": {
    "gather": {
     "logged": 1610442521618
    },
    "nteract": {
     "transient": {
      "deleting": false
     }
    }
   },
   "outputs": [
    {
     "name": "stderr",
     "output_type": "stream",
     "text": [
      "/tmp/ipykernel_21867/188001440.py:6: DtypeWarning: Columns (13,14) have mixed types. Specify dtype option on import or set low_memory=False.\n",
      "  metadata = pd.read_csv(metadata_filename)\n"
     ]
    },
    {
     "data": {
      "text/html": [
       "<div>\n",
       "<style scoped>\n",
       "    .dataframe tbody tr th:only-of-type {\n",
       "        vertical-align: middle;\n",
       "    }\n",
       "\n",
       "    .dataframe tbody tr th {\n",
       "        vertical-align: top;\n",
       "    }\n",
       "\n",
       "    .dataframe thead th {\n",
       "        text-align: right;\n",
       "    }\n",
       "</style>\n",
       "<table border=\"1\" class=\"dataframe\">\n",
       "  <thead>\n",
       "    <tr style=\"text-align: right;\">\n",
       "      <th></th>\n",
       "      <th>cord_uid</th>\n",
       "      <th>sha</th>\n",
       "      <th>source_x</th>\n",
       "      <th>title</th>\n",
       "      <th>doi</th>\n",
       "      <th>pmcid</th>\n",
       "      <th>pubmed_id</th>\n",
       "      <th>license</th>\n",
       "      <th>abstract</th>\n",
       "      <th>publish_time</th>\n",
       "      <th>authors</th>\n",
       "      <th>journal</th>\n",
       "      <th>mag_id</th>\n",
       "      <th>who_covidence_id</th>\n",
       "      <th>arxiv_id</th>\n",
       "      <th>pdf_json_files</th>\n",
       "      <th>pmc_json_files</th>\n",
       "      <th>url</th>\n",
       "      <th>s2_id</th>\n",
       "    </tr>\n",
       "  </thead>\n",
       "  <tbody>\n",
       "    <tr>\n",
       "      <th>114731</th>\n",
       "      <td>3uohifp9</td>\n",
       "      <td>1f5870b66e190afa3f7876fa16b2bef39c35171d</td>\n",
       "      <td>Elsevier; Medline; PMC</td>\n",
       "      <td>A Stroke Care Model at an Academic, Comprehens...</td>\n",
       "      <td>10.1016/j.jstrokecerebrovasdis.2020.104927</td>\n",
       "      <td>PMC7205687</td>\n",
       "      <td>32434728.0</td>\n",
       "      <td>els-covid</td>\n",
       "      <td>Abstract Background and Purpose The COVID-19 p...</td>\n",
       "      <td>2020-05-08</td>\n",
       "      <td>Meyer, Dawn; Meyer, Brett C.; Rapp, Karen S.; ...</td>\n",
       "      <td>J Stroke Cerebrovasc Dis</td>\n",
       "      <td>NaN</td>\n",
       "      <td>NaN</td>\n",
       "      <td>NaN</td>\n",
       "      <td>document_parses/pdf_json/1f5870b66e190afa3f787...</td>\n",
       "      <td>document_parses/pmc_json/PMC7205687.xml.json</td>\n",
       "      <td>https://www.ncbi.nlm.nih.gov/pubmed/32434728/;...</td>\n",
       "      <td>218538727.0</td>\n",
       "    </tr>\n",
       "    <tr>\n",
       "      <th>23682</th>\n",
       "      <td>2x5y2x7f</td>\n",
       "      <td>NaN</td>\n",
       "      <td>PMC</td>\n",
       "      <td>Classification and pathogenicity of microbes</td>\n",
       "      <td>10.1016/b978-0-7236-1403-6.50010-7</td>\n",
       "      <td>PMC7173597</td>\n",
       "      <td>NaN</td>\n",
       "      <td>no-cc</td>\n",
       "      <td>This chapter discusses the classification and ...</td>\n",
       "      <td>2014-06-27</td>\n",
       "      <td>Shanson, D.C.</td>\n",
       "      <td>Microbiology in Clinical Practice</td>\n",
       "      <td>NaN</td>\n",
       "      <td>NaN</td>\n",
       "      <td>NaN</td>\n",
       "      <td>NaN</td>\n",
       "      <td>document_parses/pmc_json/PMC7173597.xml.json</td>\n",
       "      <td>https://www.ncbi.nlm.nih.gov/pmc/articles/PMC7...</td>\n",
       "      <td>NaN</td>\n",
       "    </tr>\n",
       "    <tr>\n",
       "      <th>118136</th>\n",
       "      <td>y47p1c15</td>\n",
       "      <td>9957b4db7aa7da8f192339b4f820a51fd209fcd8</td>\n",
       "      <td>Medline; PMC</td>\n",
       "      <td>Ambient bioaerosol distribution and associated...</td>\n",
       "      <td>10.1007/s10661-020-8158-9</td>\n",
       "      <td>PMC7087893</td>\n",
       "      <td>32086610.0</td>\n",
       "      <td>no-cc</td>\n",
       "      <td>Traffic junctions are one of the crowded place...</td>\n",
       "      <td>2020-02-22</td>\n",
       "      <td>Madhwal, Sandeep; Prabhu, Vignesh; Sundriyal, ...</td>\n",
       "      <td>Environ Monit Assess</td>\n",
       "      <td>NaN</td>\n",
       "      <td>NaN</td>\n",
       "      <td>NaN</td>\n",
       "      <td>document_parses/pdf_json/9957b4db7aa7da8f19233...</td>\n",
       "      <td>document_parses/pmc_json/PMC7087893.xml.json</td>\n",
       "      <td>https://www.ncbi.nlm.nih.gov/pubmed/32086610/;...</td>\n",
       "      <td>211234534.0</td>\n",
       "    </tr>\n",
       "    <tr>\n",
       "      <th>106949</th>\n",
       "      <td>ogk5b7ug</td>\n",
       "      <td>fcb00e5562336142b9e0dcaf808ab41795282e0e</td>\n",
       "      <td>PMC; WHO</td>\n",
       "      <td>A Post-Truth Proactionary Look at the Pandemic</td>\n",
       "      <td>10.1007/s42438-020-00124-5</td>\n",
       "      <td>PMC7169651</td>\n",
       "      <td>NaN</td>\n",
       "      <td>no-cc</td>\n",
       "      <td>NaN</td>\n",
       "      <td>2020-04-20</td>\n",
       "      <td>Fuller, Steve</td>\n",
       "      <td>Postdigit Sci Educ</td>\n",
       "      <td>NaN</td>\n",
       "      <td>#88354</td>\n",
       "      <td>NaN</td>\n",
       "      <td>document_parses/pdf_json/fcb00e5562336142b9e0d...</td>\n",
       "      <td>document_parses/pmc_json/PMC7169651.xml.json</td>\n",
       "      <td>https://doi.org/10.1007/s42438-020-00124-5</td>\n",
       "      <td>216036653.0</td>\n",
       "    </tr>\n",
       "    <tr>\n",
       "      <th>118705</th>\n",
       "      <td>8xwahrke</td>\n",
       "      <td>d7873075465b9adee896a5ca2f63c819efceea08</td>\n",
       "      <td>Elsevier; Medline; PMC</td>\n",
       "      <td>How to prevent outbreak of a hospital-affiliat...</td>\n",
       "      <td>10.1016/j.jmii.2020.04.007</td>\n",
       "      <td>PMC7152916</td>\n",
       "      <td>32305270.0</td>\n",
       "      <td>els-covid</td>\n",
       "      <td>NaN</td>\n",
       "      <td>2020-04-13</td>\n",
       "      <td>Huang, Hsuan-Ti; Chen, Tun-Chieh; Liu, Tzu-Yin...</td>\n",
       "      <td>J Microbiol Immunol Infect</td>\n",
       "      <td>NaN</td>\n",
       "      <td>NaN</td>\n",
       "      <td>NaN</td>\n",
       "      <td>document_parses/pdf_json/d7873075465b9adee896a...</td>\n",
       "      <td>NaN</td>\n",
       "      <td>https://doi.org/10.1016/j.jmii.2020.04.007; ht...</td>\n",
       "      <td>215741074.0</td>\n",
       "    </tr>\n",
       "  </tbody>\n",
       "</table>\n",
       "</div>"
      ],
      "text/plain": [
       "        cord_uid                                       sha  \\\n",
       "114731  3uohifp9  1f5870b66e190afa3f7876fa16b2bef39c35171d   \n",
       "23682   2x5y2x7f                                       NaN   \n",
       "118136  y47p1c15  9957b4db7aa7da8f192339b4f820a51fd209fcd8   \n",
       "106949  ogk5b7ug  fcb00e5562336142b9e0dcaf808ab41795282e0e   \n",
       "118705  8xwahrke  d7873075465b9adee896a5ca2f63c819efceea08   \n",
       "\n",
       "                      source_x  \\\n",
       "114731  Elsevier; Medline; PMC   \n",
       "23682                      PMC   \n",
       "118136            Medline; PMC   \n",
       "106949                PMC; WHO   \n",
       "118705  Elsevier; Medline; PMC   \n",
       "\n",
       "                                                    title  \\\n",
       "114731  A Stroke Care Model at an Academic, Comprehens...   \n",
       "23682        Classification and pathogenicity of microbes   \n",
       "118136  Ambient bioaerosol distribution and associated...   \n",
       "106949     A Post-Truth Proactionary Look at the Pandemic   \n",
       "118705  How to prevent outbreak of a hospital-affiliat...   \n",
       "\n",
       "                                               doi       pmcid   pubmed_id  \\\n",
       "114731  10.1016/j.jstrokecerebrovasdis.2020.104927  PMC7205687  32434728.0   \n",
       "23682           10.1016/b978-0-7236-1403-6.50010-7  PMC7173597         NaN   \n",
       "118136                   10.1007/s10661-020-8158-9  PMC7087893  32086610.0   \n",
       "106949                  10.1007/s42438-020-00124-5  PMC7169651         NaN   \n",
       "118705                  10.1016/j.jmii.2020.04.007  PMC7152916  32305270.0   \n",
       "\n",
       "          license                                           abstract  \\\n",
       "114731  els-covid  Abstract Background and Purpose The COVID-19 p...   \n",
       "23682       no-cc  This chapter discusses the classification and ...   \n",
       "118136      no-cc  Traffic junctions are one of the crowded place...   \n",
       "106949      no-cc                                                NaN   \n",
       "118705  els-covid                                                NaN   \n",
       "\n",
       "       publish_time                                            authors  \\\n",
       "114731   2020-05-08  Meyer, Dawn; Meyer, Brett C.; Rapp, Karen S.; ...   \n",
       "23682    2014-06-27                                      Shanson, D.C.   \n",
       "118136   2020-02-22  Madhwal, Sandeep; Prabhu, Vignesh; Sundriyal, ...   \n",
       "106949   2020-04-20                                      Fuller, Steve   \n",
       "118705   2020-04-13  Huang, Hsuan-Ti; Chen, Tun-Chieh; Liu, Tzu-Yin...   \n",
       "\n",
       "                                  journal  mag_id who_covidence_id arxiv_id  \\\n",
       "114731           J Stroke Cerebrovasc Dis     NaN              NaN      NaN   \n",
       "23682   Microbiology in Clinical Practice     NaN              NaN      NaN   \n",
       "118136               Environ Monit Assess     NaN              NaN      NaN   \n",
       "106949                 Postdigit Sci Educ     NaN           #88354      NaN   \n",
       "118705         J Microbiol Immunol Infect     NaN              NaN      NaN   \n",
       "\n",
       "                                           pdf_json_files  \\\n",
       "114731  document_parses/pdf_json/1f5870b66e190afa3f787...   \n",
       "23682                                                 NaN   \n",
       "118136  document_parses/pdf_json/9957b4db7aa7da8f19233...   \n",
       "106949  document_parses/pdf_json/fcb00e5562336142b9e0d...   \n",
       "118705  document_parses/pdf_json/d7873075465b9adee896a...   \n",
       "\n",
       "                                      pmc_json_files  \\\n",
       "114731  document_parses/pmc_json/PMC7205687.xml.json   \n",
       "23682   document_parses/pmc_json/PMC7173597.xml.json   \n",
       "118136  document_parses/pmc_json/PMC7087893.xml.json   \n",
       "106949  document_parses/pmc_json/PMC7169651.xml.json   \n",
       "118705                                           NaN   \n",
       "\n",
       "                                                      url        s2_id  \n",
       "114731  https://www.ncbi.nlm.nih.gov/pubmed/32434728/;...  218538727.0  \n",
       "23682   https://www.ncbi.nlm.nih.gov/pmc/articles/PMC7...          NaN  \n",
       "118136  https://www.ncbi.nlm.nih.gov/pubmed/32086610/;...  211234534.0  \n",
       "106949         https://doi.org/10.1007/s42438-020-00124-5  216036653.0  \n",
       "118705  https://doi.org/10.1016/j.jmii.2020.04.007; ht...  215741074.0  "
      ]
     },
     "execution_count": 5,
     "metadata": {},
     "output_type": "execute_result"
    }
   ],
   "source": [
    "mount.start()\n",
    "\n",
    "# Load metadata.csv, as it contains a list of all the articles and their corresponding titles/authors/contents.\n",
    "metadata_filename = os.path.join(covid_dirpath, 'metadata.csv')\n",
    "\n",
    "metadata = pd.read_csv(metadata_filename)\n",
    "metadata.sample(5)"
   ]
  },
  {
   "cell_type": "markdown",
   "metadata": {},
   "source": [
    "Some of the articles do not have any associated documents, so we will filter those out."
   ]
  },
  {
   "cell_type": "code",
   "execution_count": 6,
   "metadata": {
    "nteract": {
     "transient": {
      "deleting": false
     }
    }
   },
   "outputs": [
    {
     "name": "stdout",
     "output_type": "stream",
     "text": [
      "Dataset contains 134206 entries, out of which 56962 have associated json documents\n"
     ]
    }
   ],
   "source": [
    "metadata_with_docs = metadata[metadata['pdf_json_files'].isna() == False]\n",
    "\n",
    "print(f'Dataset contains {metadata.shape[0]} entries, out of which {metadata_with_docs.shape[0]} have associated json documents')"
   ]
  },
  {
   "cell_type": "markdown",
   "metadata": {},
   "source": [
    "Display the percentage of items in the dataset that have associated JSON documents (research papers that have extra metadata associated with them)."
   ]
  },
  {
   "cell_type": "code",
   "execution_count": 7,
   "metadata": {},
   "outputs": [
    {
     "name": "stderr",
     "output_type": "stream",
     "text": [
      "findfont: Font family ['sans-serif'] not found. Falling back to DejaVu Sans.\n",
      "findfont: Generic family 'sans-serif' not found because none of the following families were found: Arial, Liberation Sans, Bitstream Vera Sans, sans-serif\n",
      "findfont: Font family ['sans-serif'] not found. Falling back to DejaVu Sans.\n",
      "findfont: Generic family 'sans-serif' not found because none of the following families were found: Arial, Liberation Sans, Bitstream Vera Sans, sans-serif\n"
     ]
    },
    {
     "data": {
      "image/png": "[encoded data removed]",
      "text/plain": [
       "<Figure size 576x396 with 1 Axes>"
      ]
     },
     "metadata": {},
     "output_type": "display_data"
    }
   ],
   "source": [
    "doc_counts = [metadata_with_docs.shape[0], metadata.shape[0] - metadata_with_docs.shape[0]]\n",
    "doc_labels = ['Entries with associated json documents', 'Entries without any associated json documents']\n",
    "\n",
    "fig, ax = plt.subplots()\n",
    "ax.pie(doc_counts, labels=doc_labels, autopct='%1.1f%%')\n",
    "ax.axis('equal')\n",
    "plt.show()"
   ]
  },
  {
   "cell_type": "markdown",
   "metadata": {},
   "source": [
    "## Investigate individual items\n",
    "\n",
    "Let's load an example entry from the dataset."
   ]
  },
  {
   "cell_type": "code",
   "execution_count": 8,
   "metadata": {
    "nteract": {
     "transient": {
      "deleting": false
     }
    }
   },
   "outputs": [
    {
     "name": "stdout",
     "output_type": "stream",
     "text": [
      "Document local filepath: /tmp/tmpuit5h08p/covid19temp/document_parses/pdf_json/d1aafb70c066a2068b02786f8929fd9c900897fb.json\n",
      "Document local filepath: /tmp/tmpuit5h08p/covid19temp\n",
      "Document local filepath: /tmp/tmpuit5h08p/covid19temp/comm_use_subset/pdf_json/02a009e42054081b441d0f4b203679c4b0cae38d.json\n"
     ]
    }
   ],
   "source": [
    "# Change the document index in order to preview a different article\n",
    "DOCUMENT_INDEX = 0 \n",
    "example_entry = metadata_with_docs.iloc[DOCUMENT_INDEX]\n",
    "\n",
    "filepath = os.path.join(covid_dirpath, example_entry['pdf_json_files'])\n",
    "print(f'Document local filepath: {filepath}')\n",
    "print(f'Document local filepath: {covid_dirpath}')\n",
    "\n",
    "filepath = covid_dirpath + '/comm_use_subset/pdf_json/02a009e42054081b441d0f4b203679c4b0cae38d.json'\n",
    "print(f'Document local filepath: {filepath}')"
   ]
  },
  {
   "cell_type": "markdown",
   "metadata": {},
   "source": [
    "Next, we will display the list of elements that are available for the selected document."
   ]
  },
  {
   "cell_type": "code",
   "execution_count": 9,
   "metadata": {
    "nteract": {
     "transient": {
      "deleting": false
     }
    },
    "scrolled": true
   },
   "outputs": [
    {
     "name": "stdout",
     "output_type": "stream",
     "text": [
      "Data elements: paper_id, metadata, abstract, body_text, bib_entries, ref_entries, back_matter\n"
     ]
    }
   ],
   "source": [
    "try:\n",
    "    with open(filepath, 'r') as f:\n",
    "        data = json.load(f)\n",
    "        \n",
    "except FileNotFoundError as e:\n",
    "    # in case the mount context has been closed\n",
    "    mount.start()\n",
    "    with open(filepath, 'r') as f:\n",
    "        data = json.load(f)\n",
    "        \n",
    "print(f'Data elements: { \", \".join(data.keys())}' )"
   ]
  },
  {
   "cell_type": "markdown",
   "metadata": {},
   "source": [
    "Please make sure to update the storage account name from the labguide in the below cell."
   ]
  },
  {
   "cell_type": "code",
   "execution_count": null,
   "metadata": {},
   "outputs": [],
   "source": [
    "from azureml.core import  Dataset\n",
    "cord19_dataset = Dataset.File.from_files('https://aiinadaystorage800633.blob.core.windows.net/covid19temp')\n",
    "mount = cord19_dataset.mount()"
   ]
  },
  {
   "cell_type": "markdown",
   "metadata": {},
   "source": [
    "View the full text version of the document."
   ]
  },
  {
   "cell_type": "code",
   "execution_count": null,
   "metadata": {},
   "outputs": [],
   "source": [
    "for p in data['body_text']:\n",
    "    print(p['text'], '\\n')"
   ]
  },
  {
   "cell_type": "markdown",
   "metadata": {},
   "source": [
    "## Stop words\n",
    "\n",
    "Here's a quote from Stanford's NLP team that will provide some context on stop words and their intended usage:\n",
    "\n",
    "_\"Sometimes, some extremely common words which would appear to be of little value in helping select documents matching a user need are excluded from the vocabulary entirely. These words are called stop words . The general strategy for determining a stop list is to sort the terms by collection frequency (the total number of times each term appears in the document collection), and then to take the most frequent terms, often hand-filtered for their semantic content relative to the domain of the documents being indexed, as a stop list , the members of which are then discarded during indexing.\"_\n",
    "\n",
    "Let's investigate the stop words list that we will use to clean our data. Note that apart from the standard stopwords, we will also remove any punctuation and also any occurrences of *et al.*, as they are often found in academic articles."
   ]
  },
  {
   "cell_type": "code",
   "execution_count": null,
   "metadata": {},
   "outputs": [],
   "source": [
    "stop_tokens = nltk.corpus.stopwords.words('english') + list(punctuation) + ['et', 'al.']\n",
    "print(stop_tokens)"
   ]
  },
  {
   "cell_type": "markdown",
   "metadata": {},
   "source": [
    "The code below will be used to read the text associated with a series of articles, remove stop words from their text, and reduce) inflected words to their base form (stemming).\n",
    "\n",
    "**NOTE**:\n",
    "\n",
    "If you are not familiar with Python code, just execute the following cell and continue with the notebook. Understanding the code below is not require for understanding and following the overall flow of the notebook."
   ]
  },
  {
   "cell_type": "code",
   "execution_count": null,
   "metadata": {},
   "outputs": [],
   "source": [
    "class Reader:\n",
    "    \"\"\"Class used to read the files associated with an article\"\"\"\n",
    "    \n",
    "    def __init__(self):\n",
    "        self.stemmer = SnowballStemmer('english')\n",
    "    \n",
    "    def read_file_to_json(self, filepath):\n",
    "        try:\n",
    "            with open(filepath, 'r') as f:\n",
    "                data = json.load(f)\n",
    "        except FileNotFoundError as e:\n",
    "            mount.start()\n",
    "            with open(filepath, 'r') as f:\n",
    "                data = json.load(f)\n",
    "                \n",
    "        return data\n",
    "    \n",
    "    def parse_document(self, document_index):\n",
    "        document = metadata_with_docs.iloc[document_index]\n",
    "        \n",
    "        # One article can have multiple associated documents\n",
    "        words = []\n",
    "        for filename in document['pdf_json_files'].split('; '):\n",
    "            filepath = '{0}/{1}'.format(covid_dirpath, filename)\n",
    "            pdf_json_files = os.listdir(covid_dirpath + '/comm_use_subset/pdf_json')\n",
    "            filepath = covid_dirpath + '/comm_use_subset/pdf_json/' + pdf_json_files[document_index]\n",
    "            \n",
    "            if document_index % 50 == 0:\n",
    "                print(filepath)\n",
    "            \n",
    "            data = self.read_file_to_json(filepath)\n",
    "\n",
    "\n",
    "\n",
    "           # Split each paragraph into multiple sentences first, in order to improve the performance of the word tokenizer\n",
    "            text = data['body_text']\n",
    "            for paragraph in text:\n",
    "                p_sentences = sent_tokenize(paragraph['text'])\n",
    "\n",
    "\n",
    "\n",
    "               # Split each sentence into words, while making sure to remove the stopwords and stem the words\n",
    "                for p_sentence in p_sentences:\n",
    "                    sentence = [ self.stemmer.stem(word) for word in word_tokenize(p_sentence) if word.isalpha() and word.lower() not in stop_tokens ]\n",
    "                    words.extend(sentence)\n",
    "    \n",
    "        return (words, document['cord_uid'])\n",
    "        \n",
    "\n",
    "\n",
    "\n",
    "class Corpus:\n",
    "    \"\"\"An iterator that reads all sentences from the first N documents\"\"\"\n",
    "    \n",
    "    def __init__(self, n_documents):\n",
    "        self.n_documents = n_documents\n",
    "        self.stemmer = SnowballStemmer('english')\n",
    "        self.reader = Reader()\n",
    "        \n",
    "    def __iter__(self):\n",
    "         for document_index in range(0, self.n_documents):   \n",
    "            words, document_id = self.reader.parse_document(document_index)\n",
    "            yield TaggedDocument(words, document_id)\n",
    "            \n",
    "    def plain_iter(self):\n",
    "        for document_index in range(0, self.n_documents):  \n",
    "            words, document_id = self.reader.parse_document(document_index)\n",
    "            yield (words, document_id)"
   ]
  },
  {
   "cell_type": "markdown",
   "metadata": {},
   "source": [
    "## Encoding documents as vectors\n",
    "\n",
    "In this lab, we're using a subset of 1000 articles to train a Machine Learning model that encodes text documents into numerical vectors (a document embedding model). \n",
    "\n",
    "Training a document embedding model takes a significant amount of time, and for this reason we already provide a trained model. We also provide the code below in case you want to get more details about the process. Running the next two cells will result in loading the already existing model."
   ]
  },
  {
   "cell_type": "code",
   "execution_count": null,
   "metadata": {},
   "outputs": [],
   "source": [
    "N_DOCUMENTS = 500"
   ]
  },
  {
   "cell_type": "code",
   "execution_count": null,
   "metadata": {},
   "outputs": [],
   "source": [
    "%%time\n",
    "\n",
    "model_filename = f'covid_embeddings_model_{N_DOCUMENTS}_docs.w2v'\n",
    "\n",
    "if (os.path.exists(model_filename)):\n",
    "    model = Doc2Vec.load(model_filename)\n",
    "    print(f'Done, loaded word2vec model with { len(model.wv.vocab) } words.')\n",
    "else:\n",
    "    model = Doc2Vec(Corpus(N_DOCUMENTS), vector_size=128, batch_words=10)\n",
    "    model.save(model_filename)\n",
    "    print(f'Done, trained word2vec model with { len(model.wv.vocab) } words.')"
   ]
  },
  {
   "cell_type": "markdown",
   "metadata": {},
   "source": [
    "## Word frequencies\n",
    "\n",
    "Let's analyze the relative frequencies of words in the corpus of articles. We will display a word cloud to provide a visual representation of these relative frequencies."
   ]
  },
  {
   "cell_type": "code",
   "execution_count": null,
   "metadata": {},
   "outputs": [],
   "source": [
    "word_frequencies = { key: model.wv.vocab[key].count for key in model.wv.vocab }"
   ]
  },
  {
   "cell_type": "code",
   "execution_count": null,
   "metadata": {},
   "outputs": [],
   "source": [
    "cloud = WordCloud(width=1024, height=768).generate_from_frequencies(word_frequencies)\n",
    "plt.figure(figsize=(16,12))\n",
    "plt.imshow(cloud, interpolation='antialiased')\n",
    "plt.axis(\"off\")"
   ]
  },
  {
   "cell_type": "markdown",
   "metadata": {},
   "source": [
    "## Embedding documents\n",
    "\n",
    "Below is an example on how we embed (transform from text to numerical vector) one of the documents."
   ]
  },
  {
   "cell_type": "code",
   "execution_count": null,
   "metadata": {},
   "outputs": [],
   "source": [
    "words, doc_id = Reader().parse_document(DOCUMENT_INDEX)\n",
    "model.infer_vector(words)"
   ]
  },
  {
   "cell_type": "markdown",
   "metadata": {},
   "source": [
    "And this is an example of a trivial \"document\" (containing a single, trivial sentence) going through the same process. Notice how, regardless of the length of the sentence, the result vector is always the same size - the `vector_size` argument used while training the `Doc2Vec` model.\n",
    "\n",
    "This is very important in the following stages of the process, when we are working with multiple documents."
   ]
  },
  {
   "cell_type": "code",
   "execution_count": null,
   "metadata": {},
   "outputs": [],
   "source": [
    "model.infer_vector(['human', 'love', 'cat', 'dog'])"
   ]
  },
  {
   "cell_type": "markdown",
   "metadata": {},
   "source": [
    "The resulting vectors will look more or less similar, depending on how different the contents of the articles are themselves. See below the differences resulting from a single word change - some of the values significantly overlap, while others are quite different if not opposite."
   ]
  },
  {
   "cell_type": "code",
   "execution_count": null,
   "metadata": {},
   "outputs": [],
   "source": [
    "adult_vector = model.infer_vector(['adult', 'love', 'cat', 'dog'])\n",
    "child_vector = model.infer_vector(['child', 'love', 'cat', 'dog'])\n",
    "labels = range(0, 128) \n",
    "\n",
    "plt.bar(labels, adult_vector, align='center', alpha=0.5)\n",
    "plt.bar(labels, child_vector, align='center', alpha=0.5)\n",
    "plt.legend(['Adults', 'Children'])\n",
    "plt.show()"
   ]
  },
  {
   "cell_type": "markdown",
   "metadata": {},
   "source": [
    "Let's now do the same for the same for all the documents we're focusing on."
   ]
  },
  {
   "cell_type": "code",
   "execution_count": null,
   "metadata": {},
   "outputs": [],
   "source": [
    "%%time\n",
    "\n",
    "word_vectors = []\n",
    "ids = []\n",
    "\n",
    "for (words, doc_id) in Corpus(N_DOCUMENTS).plain_iter():\n",
    "    ids.append(doc_id)\n",
    "    word_vector = model.infer_vector(words)\n",
    "    word_vectors.append(word_vector)\n",
    "    if len(word_vectors) % 100 == 0:\n",
    "        print(f'Processed {len(word_vectors)} documents.')"
   ]
  },
  {
   "cell_type": "markdown",
   "metadata": {},
   "source": [
    "Now that we've finished reading the articles, we can dismount the dataset in order to free up resources"
   ]
  },
  {
   "cell_type": "code",
   "execution_count": null,
   "metadata": {},
   "outputs": [],
   "source": [
    "mount.stop()"
   ]
  },
  {
   "cell_type": "markdown",
   "metadata": {},
   "source": [
    "## Covid-19 documents prepared for Machine Learning\n",
    "\n",
    "We'll create a new DataFrame using the word vectors we've just calculated, this is the numerical form of the documents which is ready for Machine Learning workloads."
   ]
  },
  {
   "cell_type": "code",
   "execution_count": null,
   "metadata": {},
   "outputs": [],
   "source": [
    "wv_df = pd.DataFrame(word_vectors, index=ids)\n",
    "wv_df"
   ]
  },
  {
   "cell_type": "markdown",
   "metadata": {},
   "source": [
    "We'll join the DataFrame containing the numerical embeddings with the original dataset."
   ]
  },
  {
   "cell_type": "code",
   "execution_count": null,
   "metadata": {},
   "outputs": [],
   "source": [
    "indexed_metadata = metadata_with_docs.set_index('cord_uid')\n",
    "metadata_with_embeddings = pd.concat([indexed_metadata.iloc[:N_DOCUMENTS], wv_df], axis=1)\n",
    "metadata_with_embeddings"
   ]
  },
  {
   "cell_type": "markdown",
   "metadata": {},
   "source": [
    "## Preparing for clustering documents\n",
    "\n",
    "One of the challenges with clustering is to find the ideal number of clusters to look for. The elbow method is one of the most common approaches.\n",
    "\n",
    "We're visualizing an elbow metric (the \"distortion\" score) and trying to find a point where it stops decreasing with the number of clusters.\n"
   ]
  },
  {
   "cell_type": "code",
   "execution_count": null,
   "metadata": {},
   "outputs": [],
   "source": [
    "visualizer = KElbowVisualizer(KMeans(), k=(3,20))\n",
    "visualizer.fit(wv_df)\n",
    "\n",
    "visualizer.show()"
   ]
  },
  {
   "cell_type": "markdown",
   "metadata": {},
   "source": [
    "## Clustering documents\n",
    "\n",
    "We've determined the acceptable value for the clusters, so let's use Machine Learning to determine those clusters. We'll use the classic KMeans algorithm to do this."
   ]
  },
  {
   "cell_type": "code",
   "execution_count": null,
   "metadata": {},
   "outputs": [],
   "source": [
    "clusterer = KMeans(12 if visualizer.elbow_value_ > 12 else visualizer.elbow_value_)\n",
    "clusterer.fit(wv_df)\n",
    "clusters = clusterer.labels_"
   ]
  },
  {
   "cell_type": "markdown",
   "metadata": {},
   "source": [
    "We'll perform a quick visual check on the clusters. In order to be able to visualize 128 dimensions (which is the size of the word vectors) in a 2-D space, we'll use the PCA (Principal Component Analysis) dimensionality reduction technique. This will transform our 128-dimensional vectors into 2-dimensional ones that we can display."
   ]
  },
  {
   "cell_type": "code",
   "execution_count": null,
   "metadata": {},
   "outputs": [],
   "source": [
    "pca = PCA(n_components=2)\n",
    "pca.fit(wv_df)\n",
    "result = pca.transform(wv_df)"
   ]
  },
  {
   "cell_type": "markdown",
   "metadata": {},
   "source": [
    "Afterwards, we can plot the documents in a simple 2-D chart, and color each one according to their cluster"
   ]
  },
  {
   "cell_type": "code",
   "execution_count": null,
   "metadata": {},
   "outputs": [],
   "source": [
    "sns.set(rc={'figure.figsize':(10, 6), 'figure.facecolor':'white', 'axes.facecolor':'white'})\n",
    "\n",
    "color_palette = sns.color_palette('Paired')\n",
    "# Each cluster gets its own color from the palette\n",
    "cluster_colors = [color_palette[x] if x >= 0 else (0.5, 0.5, 0.5) for x in clusterer.labels_]\n",
    "plt.scatter(result[:,0], result[:,1], s=50, c=cluster_colors, alpha=0.75)\n",
    "\n",
    "plt.title(f'{N_DOCUMENTS} documents in {clusterer.n_clusters} clusters')\n",
    "plt.show()"
   ]
  },
  {
   "cell_type": "markdown",
   "metadata": {},
   "source": [
    "We'll add each article's cluster as new column to our combined dataset"
   ]
  },
  {
   "cell_type": "code",
   "execution_count": null,
   "metadata": {},
   "outputs": [],
   "source": [
    "metadata_with_clusters = metadata_with_embeddings\n",
    "metadata_with_clusters['cluster'] = clusters\n",
    "metadata_with_clusters"
   ]
  },
  {
   "cell_type": "markdown",
   "metadata": {},
   "source": [
    "We can now split our data into two datasets - a **training** one that will be used to train a Machine Learning model, able to determine the cluster that should be assigned to an article, and a **test** one that we'll use to test this classifier.\n",
    "\n",
    "We will allocate 80% of the articles to training the Machine Learning model, and the remaining 20% to testing it."
   ]
  },
  {
   "cell_type": "code",
   "execution_count": null,
   "metadata": {},
   "outputs": [],
   "source": [
    "train, test = train_test_split(metadata_with_clusters, train_size=0.8)\n",
    "train"
   ]
  },
  {
   "cell_type": "markdown",
   "metadata": {},
   "source": [
    "To speed up training, we'll ignore all columns except the word vectors calculated using Doc2Vec. For this reason, we will create a separate dataset just with the vectors."
   ]
  },
  {
   "cell_type": "code",
   "execution_count": null,
   "metadata": {},
   "outputs": [],
   "source": [
    "columns_to_ignore = ['sha', 'source_x', 'title', 'doi', 'pmcid', 'pubmed_id', 'license', 'abstract', 'publish_time', 'authors', 'journal', 'mag_id',\n",
    "                     'who_covidence_id', 'arxiv_id', 'pdf_json_files', 'pmc_json_files', 'url', 's2_id' ]\n",
    "train_data_vectors = train.drop(columns_to_ignore, axis=1)\n",
    "test_data_vectors = test.drop(columns_to_ignore, axis=1)"
   ]
  },
  {
   "cell_type": "markdown",
   "metadata": {},
   "source": [
    "## Register the training and testing datasets for AutoML availability\n",
    "\n",
    "We're registering the training and testing datasets with the Azure Machine Learning datastore to make them available inside Azure Machine Learning Studio and Automated ML."
   ]
  },
  {
   "cell_type": "code",
   "execution_count": null,
   "metadata": {},
   "outputs": [],
   "source": [
    "# Retrieve your ML workspace\n",
    "ws = Workspace.from_config()\n",
    "# Retrieve the workspace's default datastore\n",
    "datastore = ws.get_default_datastore()\n",
    "\n",
    "\n",
    "Dataset.Tabular.register_pandas_dataframe(train_data_vectors, datastore, 'COVID19Articles_Train_Vectors')\n",
    "Dataset.Tabular.register_pandas_dataframe(test_data_vectors, datastore, 'COVID19Articles_Test_Vectors')"
   ]
  },
  {
   "cell_type": "markdown",
   "metadata": {},
   "source": [
    "## Open Azure Machine Learning Studio\n",
    "\n",
    "Return to the GitHub repo and follow the instructions from there. You will use Automated ML in Azure Machine Learning Studio to train a classification model that predicts the document cluster for new research articles."
   ]
  }
 ],
 "metadata": {
  "kernel_info": {
   "name": "python3"
  },
  "kernelspec": {
   "display_name": "Python (aiw-ai-kernel)",
   "language": "python",
   "name": "aiw-ai-kernel"
  },
  "language_info": {
   "codemirror_mode": {
    "name": "ipython",
    "version": 3
   },
   "file_extension": ".py",
   "mimetype": "text/x-python",
   "name": "python",
   "nbconvert_exporter": "python",
   "pygments_lexer": "ipython3",
   "version": "3.8.13"
  },
  "nteract": {
   "version": "nteract-front-end@1.0.0"
  }
 },
 "nbformat": 4,
 "nbformat_minor": 4
}
